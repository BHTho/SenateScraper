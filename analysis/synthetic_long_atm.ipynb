{
 "cells": [
  {
   "cell_type": "markdown",
   "id": "003827e0",
   "metadata": {},
   "source": [
    "# Intro\n",
    "\n",
    "This strategy follows on from synthetic_long_otm, so it's probably worth looking at that first"
   ]
  },
  {
   "cell_type": "code",
   "execution_count": 1,
   "id": "4439c513",
   "metadata": {},
   "outputs": [],
   "source": [
    "import os\n",
    "import pandas as pd\n",
    "import numpy as np\n",
    "import boto3\n",
    "import yfinance as yf\n",
    "from datetime import datetime, timedelta\n",
    "import matplotlib.pyplot as plt"
   ]
  },
  {
   "cell_type": "code",
   "execution_count": 2,
   "id": "f90e3755",
   "metadata": {},
   "outputs": [
    {
     "data": {
      "text/html": [
       "<div>\n",
       "<style scoped>\n",
       "    .dataframe tbody tr th:only-of-type {\n",
       "        vertical-align: middle;\n",
       "    }\n",
       "\n",
       "    .dataframe tbody tr th {\n",
       "        vertical-align: top;\n",
       "    }\n",
       "\n",
       "    .dataframe thead th {\n",
       "        text-align: right;\n",
       "    }\n",
       "</style>\n",
       "<table border=\"1\" class=\"dataframe\">\n",
       "  <thead>\n",
       "    <tr style=\"text-align: right;\">\n",
       "      <th></th>\n",
       "      <th>Tx_Type</th>\n",
       "      <th>Comment</th>\n",
       "      <th>Date</th>\n",
       "      <th>Asset_Type</th>\n",
       "      <th>Filer</th>\n",
       "      <th>Owner</th>\n",
       "      <th>Ticker</th>\n",
       "      <th>Amount</th>\n",
       "      <th>id</th>\n",
       "      <th>Asset_Name</th>\n",
       "    </tr>\n",
       "  </thead>\n",
       "  <tbody>\n",
       "    <tr>\n",
       "      <th>1242</th>\n",
       "      <td>Purchase</td>\n",
       "      <td>None</td>\n",
       "      <td>2025-09-24</td>\n",
       "      <td>Stock</td>\n",
       "      <td>Mullin, Markwayne</td>\n",
       "      <td>Joint</td>\n",
       "      <td>ISRG</td>\n",
       "      <td>$50,001 - $100,000</td>\n",
       "      <td>6f923961513c562b495f1069352cdfa5</td>\n",
       "      <td>Intuitive Surgical, Inc. - Common Stock</td>\n",
       "    </tr>\n",
       "    <tr>\n",
       "      <th>1369</th>\n",
       "      <td>Purchase</td>\n",
       "      <td>None</td>\n",
       "      <td>2025-09-24</td>\n",
       "      <td>Stock</td>\n",
       "      <td>Mullin, Markwayne</td>\n",
       "      <td>Joint</td>\n",
       "      <td>UNH</td>\n",
       "      <td>$15,001 - $50,000</td>\n",
       "      <td>443908ce011136867f61de5665885e88</td>\n",
       "      <td>Unitedhealth Group Inc</td>\n",
       "    </tr>\n",
       "    <tr>\n",
       "      <th>1969</th>\n",
       "      <td>Purchase</td>\n",
       "      <td>None</td>\n",
       "      <td>2025-09-24</td>\n",
       "      <td>Stock</td>\n",
       "      <td>Mullin, Markwayne</td>\n",
       "      <td>Joint</td>\n",
       "      <td>INTU</td>\n",
       "      <td>$15,001 - $50,000</td>\n",
       "      <td>47442d16a1d0aa8dcc1e2b0584b34e59</td>\n",
       "      <td>Intuit Inc. - Common Stock</td>\n",
       "    </tr>\n",
       "    <tr>\n",
       "      <th>4763</th>\n",
       "      <td>Purchase</td>\n",
       "      <td>None</td>\n",
       "      <td>2025-09-24</td>\n",
       "      <td>Stock</td>\n",
       "      <td>Mullin, Markwayne</td>\n",
       "      <td>Joint</td>\n",
       "      <td>NOW</td>\n",
       "      <td>$1,001 - $15,000</td>\n",
       "      <td>79a9c5d7e00284096bb9c6f3c3ec7bd2</td>\n",
       "      <td>ServiceNow, Inc. Common Stock</td>\n",
       "    </tr>\n",
       "    <tr>\n",
       "      <th>5925</th>\n",
       "      <td>Purchase</td>\n",
       "      <td>None</td>\n",
       "      <td>2025-09-17</td>\n",
       "      <td>Stock</td>\n",
       "      <td>Boozman, John</td>\n",
       "      <td>Joint</td>\n",
       "      <td>GOOGL</td>\n",
       "      <td>$15,001 - $50,000</td>\n",
       "      <td>cdbf6c0b009fb9e4a2ffb93e9a54ff0f</td>\n",
       "      <td>Alphabet Cl A</td>\n",
       "    </tr>\n",
       "  </tbody>\n",
       "</table>\n",
       "</div>"
      ],
      "text/plain": [
       "       Tx_Type Comment       Date Asset_Type              Filer  Owner Ticker  \\\n",
       "1242  Purchase    None 2025-09-24      Stock  Mullin, Markwayne  Joint   ISRG   \n",
       "1369  Purchase    None 2025-09-24      Stock  Mullin, Markwayne  Joint    UNH   \n",
       "1969  Purchase    None 2025-09-24      Stock  Mullin, Markwayne  Joint   INTU   \n",
       "4763  Purchase    None 2025-09-24      Stock  Mullin, Markwayne  Joint    NOW   \n",
       "5925  Purchase    None 2025-09-17      Stock      Boozman, John  Joint  GOOGL   \n",
       "\n",
       "                  Amount                                id  \\\n",
       "1242  $50,001 - $100,000  6f923961513c562b495f1069352cdfa5   \n",
       "1369   $15,001 - $50,000  443908ce011136867f61de5665885e88   \n",
       "1969   $15,001 - $50,000  47442d16a1d0aa8dcc1e2b0584b34e59   \n",
       "4763    $1,001 - $15,000  79a9c5d7e00284096bb9c6f3c3ec7bd2   \n",
       "5925   $15,001 - $50,000  cdbf6c0b009fb9e4a2ffb93e9a54ff0f   \n",
       "\n",
       "                                   Asset_Name  \n",
       "1242  Intuitive Surgical, Inc. - Common Stock  \n",
       "1369                   Unitedhealth Group Inc  \n",
       "1969               Intuit Inc. - Common Stock  \n",
       "4763            ServiceNow, Inc. Common Stock  \n",
       "5925                            Alphabet Cl A  "
      ]
     },
     "execution_count": 2,
     "metadata": {},
     "output_type": "execute_result"
    }
   ],
   "source": [
    "dynamodb = boto3.resource(\n",
    "            'dynamodb',\n",
    "            region_name=os.getenv('AWS_REGION'),\n",
    "            aws_access_key_id=os.getenv('AWS_ACCESS_KEY'),\n",
    "            aws_secret_access_key=os.getenv('AWS_SECRET_KEY')\n",
    ")\n",
    "\n",
    "table = dynamodb.Table(os.getenv('DYNAMO_TABLE_NAME'))\n",
    "items = []\n",
    "resp = table.scan()\n",
    "items.extend(resp.get('Items', []))\n",
    "while resp.get('LastEvaluatedKey') is not None:\n",
    "    resp = table.scan(ExclusiveStartKey=resp['LastEvaluatedKey'])\n",
    "    items.extend(resp.get('Items', []))\n",
    "df = pd.DataFrame(items)\n",
    "df['Date'] = pd.to_datetime(df['Date'])\n",
    "\n",
    "recent_buys = df[(df['Date'] >= '2025-09-01') & (df['Tx_Type'] == 'Purchase') & (df['Ticker'])]\n",
    "recent_buys = recent_buys.sort_values(by='Date', ascending=False)\n",
    "recent_buys.head(5)"
   ]
  },
  {
   "cell_type": "code",
   "execution_count": 3,
   "id": "2196e8e5",
   "metadata": {},
   "outputs": [],
   "source": [
    "def get_atm_options(ticker_symbol: str, tx_date: pd.Timestamp):\n",
    "    target_date = tx_date + timedelta(days=90)\n",
    "    ticker = yf.Ticker(ticker_symbol)\n",
    "    expirations = [datetime.fromisoformat(date) for date in ticker.options]\n",
    "    nearest_exp = min(expirations, key=lambda d: abs((d - target_date).days))\n",
    "    return ticker.option_chain(nearest_exp.strftime('%Y-%m-%d'))"
   ]
  },
  {
   "cell_type": "markdown",
   "id": "bfa27f38",
   "metadata": {},
   "source": [
    "Let's have a look at ISRG in row 1"
   ]
  },
  {
   "cell_type": "code",
   "execution_count": 5,
   "id": "0401188c",
   "metadata": {},
   "outputs": [
    {
     "name": "stderr",
     "output_type": "stream",
     "text": [
      "/tmp/ipykernel_93574/529863589.py:1: FutureWarning: Series.__getitem__ treating keys as positions is deprecated. In a future version, integer keys will always be treated as labels (consistent with DataFrame behavior). To access a value by position, use `ser.iloc[pos]`\n",
      "  current_price = yf.Ticker('ISRG').history(period='1d')['Close'][0]\n"
     ]
    },
    {
     "data": {
      "text/plain": [
       "np.float64(527.030029296875)"
      ]
     },
     "execution_count": 5,
     "metadata": {},
     "output_type": "execute_result"
    }
   ],
   "source": [
    "current_price = yf.Ticker('ISRG').history(period='1d')['Close'][0]\n",
    "current_price"
   ]
  },
  {
   "cell_type": "code",
   "execution_count": 6,
   "id": "79ad63b1",
   "metadata": {},
   "outputs": [],
   "source": [
    "atm_options = get_atm_options('ISRG', pd.Timestamp('2025-09-24'))\n",
    "atm_calls = atm_options.calls\n",
    "atm_calls = atm_calls.iloc[(atm_calls['strike'] - current_price).abs().argsort()[:1]]\n",
    "atm_puts = atm_options.puts\n",
    "atm_puts = atm_puts.iloc[(atm_puts['strike'] - current_price).abs().argsort()[:1]]"
   ]
  },
  {
   "cell_type": "code",
   "execution_count": 7,
   "id": "41330836",
   "metadata": {},
   "outputs": [
    {
     "data": {
      "text/html": [
       "<div>\n",
       "<style scoped>\n",
       "    .dataframe tbody tr th:only-of-type {\n",
       "        vertical-align: middle;\n",
       "    }\n",
       "\n",
       "    .dataframe tbody tr th {\n",
       "        vertical-align: top;\n",
       "    }\n",
       "\n",
       "    .dataframe thead th {\n",
       "        text-align: right;\n",
       "    }\n",
       "</style>\n",
       "<table border=\"1\" class=\"dataframe\">\n",
       "  <thead>\n",
       "    <tr style=\"text-align: right;\">\n",
       "      <th></th>\n",
       "      <th>contractSymbol</th>\n",
       "      <th>lastTradeDate</th>\n",
       "      <th>strike</th>\n",
       "      <th>lastPrice</th>\n",
       "      <th>bid</th>\n",
       "      <th>ask</th>\n",
       "      <th>change</th>\n",
       "      <th>percentChange</th>\n",
       "      <th>volume</th>\n",
       "      <th>openInterest</th>\n",
       "      <th>impliedVolatility</th>\n",
       "      <th>inTheMoney</th>\n",
       "      <th>contractSize</th>\n",
       "      <th>currency</th>\n",
       "    </tr>\n",
       "  </thead>\n",
       "  <tbody>\n",
       "    <tr>\n",
       "      <th>40</th>\n",
       "      <td>ISRG251219C00525000</td>\n",
       "      <td>2025-10-22 19:24:03+00:00</td>\n",
       "      <td>525.0</td>\n",
       "      <td>28.9</td>\n",
       "      <td>0.0</td>\n",
       "      <td>0.0</td>\n",
       "      <td>0.0</td>\n",
       "      <td>0.0</td>\n",
       "      <td>31.0</td>\n",
       "      <td>56</td>\n",
       "      <td>0.00001</td>\n",
       "      <td>True</td>\n",
       "      <td>REGULAR</td>\n",
       "      <td>USD</td>\n",
       "    </tr>\n",
       "  </tbody>\n",
       "</table>\n",
       "</div>"
      ],
      "text/plain": [
       "         contractSymbol             lastTradeDate  strike  lastPrice  bid  \\\n",
       "40  ISRG251219C00525000 2025-10-22 19:24:03+00:00   525.0       28.9  0.0   \n",
       "\n",
       "    ask  change  percentChange  volume  openInterest  impliedVolatility  \\\n",
       "40  0.0     0.0            0.0    31.0            56            0.00001   \n",
       "\n",
       "    inTheMoney contractSize currency  \n",
       "40        True      REGULAR      USD  "
      ]
     },
     "execution_count": 7,
     "metadata": {},
     "output_type": "execute_result"
    }
   ],
   "source": [
    "atm_calls"
   ]
  },
  {
   "cell_type": "code",
   "execution_count": 8,
   "id": "14830f48",
   "metadata": {},
   "outputs": [
    {
     "data": {
      "text/html": [
       "<div>\n",
       "<style scoped>\n",
       "    .dataframe tbody tr th:only-of-type {\n",
       "        vertical-align: middle;\n",
       "    }\n",
       "\n",
       "    .dataframe tbody tr th {\n",
       "        vertical-align: top;\n",
       "    }\n",
       "\n",
       "    .dataframe thead th {\n",
       "        text-align: right;\n",
       "    }\n",
       "</style>\n",
       "<table border=\"1\" class=\"dataframe\">\n",
       "  <thead>\n",
       "    <tr style=\"text-align: right;\">\n",
       "      <th></th>\n",
       "      <th>contractSymbol</th>\n",
       "      <th>lastTradeDate</th>\n",
       "      <th>strike</th>\n",
       "      <th>lastPrice</th>\n",
       "      <th>bid</th>\n",
       "      <th>ask</th>\n",
       "      <th>change</th>\n",
       "      <th>percentChange</th>\n",
       "      <th>volume</th>\n",
       "      <th>openInterest</th>\n",
       "      <th>impliedVolatility</th>\n",
       "      <th>inTheMoney</th>\n",
       "      <th>contractSize</th>\n",
       "      <th>currency</th>\n",
       "    </tr>\n",
       "  </thead>\n",
       "  <tbody>\n",
       "    <tr>\n",
       "      <th>45</th>\n",
       "      <td>ISRG251219P00525000</td>\n",
       "      <td>2025-10-22 19:47:40+00:00</td>\n",
       "      <td>525.0</td>\n",
       "      <td>19.9</td>\n",
       "      <td>0.0</td>\n",
       "      <td>0.0</td>\n",
       "      <td>0.0</td>\n",
       "      <td>0.0</td>\n",
       "      <td>47.0</td>\n",
       "      <td>45</td>\n",
       "      <td>0.001963</td>\n",
       "      <td>False</td>\n",
       "      <td>REGULAR</td>\n",
       "      <td>USD</td>\n",
       "    </tr>\n",
       "  </tbody>\n",
       "</table>\n",
       "</div>"
      ],
      "text/plain": [
       "         contractSymbol             lastTradeDate  strike  lastPrice  bid  \\\n",
       "45  ISRG251219P00525000 2025-10-22 19:47:40+00:00   525.0       19.9  0.0   \n",
       "\n",
       "    ask  change  percentChange  volume  openInterest  impliedVolatility  \\\n",
       "45  0.0     0.0            0.0    47.0            45           0.001963   \n",
       "\n",
       "    inTheMoney contractSize currency  \n",
       "45       False      REGULAR      USD  "
      ]
     },
     "execution_count": 8,
     "metadata": {},
     "output_type": "execute_result"
    }
   ],
   "source": [
    "atm_puts"
   ]
  },
  {
   "cell_type": "markdown",
   "id": "f237d7a9",
   "metadata": {},
   "source": [
    "It's technically itm by $2, but we'll go on.\n",
    "\n",
    "What would a synthetic long position look like:"
   ]
  },
  {
   "cell_type": "code",
   "execution_count": 9,
   "id": "b333baf1",
   "metadata": {},
   "outputs": [],
   "source": [
    "def get_profit_loss(strike_price, premium_call, premium_put, stock_price):\n",
    "    S = stock_price\n",
    "    K = strike_price\n",
    "\n",
    "    call_payoff = max(0, S - K) - premium_call\n",
    "    put_payoff = premium_put - max(0, K - S)\n",
    "    total_payoff = call_payoff + put_payoff\n",
    "    return total_payoff"
   ]
  },
  {
   "cell_type": "code",
   "execution_count": 10,
   "id": "6cca321e",
   "metadata": {},
   "outputs": [],
   "source": [
    "pl = []\n",
    "stock_prices = np.arange(current_price - 50, current_price + 50, 1)\n",
    "for price in stock_prices:\n",
    "    profit_loss = get_profit_loss(\n",
    "        strike_price=atm_calls['strike'].values[0],\n",
    "        premium_call=atm_calls['lastPrice'].values[0],\n",
    "        premium_put=atm_puts['lastPrice'].values[0],\n",
    "        stock_price=price\n",
    "    )\n",
    "    pl.append(profit_loss)"
   ]
  },
  {
   "cell_type": "code",
   "execution_count": 11,
   "id": "d46c15c0",
   "metadata": {},
   "outputs": [
    {
     "data": {
      "image/png": "[encoded data removed]",
      "text/plain": [
       "<Figure size 1000x600 with 1 Axes>"
      ]
     },
     "metadata": {},
     "output_type": "display_data"
    }
   ],
   "source": [
    "# let's plot the profit/loss diagram\n",
    "plt.figure(figsize=(10,6))\n",
    "plt.plot(stock_prices, pl, label='Synthetic Long Position', color='blue')\n",
    "plt.axhline(0, color='black', linestyle='--')\n",
    "plt.axvline(atm_calls['strike'].values[0], color='red', linestyle='--', label='Strike Price')\n",
    "plt.title('Profit/Loss Diagram for Synthetic Long Position on ISRG')\n",
    "plt.xlabel('Stock Price at Expiration')\n",
    "plt.ylabel('Profit / Loss')\n",
    "plt.legend()\n",
    "plt.grid()\n",
    "plt.show()"
   ]
  },
  {
   "cell_type": "code",
   "execution_count": 12,
   "id": "046348e3",
   "metadata": {},
   "outputs": [
    {
     "data": {
      "text/plain": [
       "np.float64(534.0)"
      ]
     },
     "execution_count": 12,
     "metadata": {},
     "output_type": "execute_result"
    }
   ],
   "source": [
    "# Let's calculate breakeven point\n",
    "strike_price = atm_calls['strike'].values[0]\n",
    "premium_call = atm_calls['lastPrice'].values[0]\n",
    "premium_put = atm_puts['lastPrice'].values[0]\n",
    "breakeven_price = strike_price + (premium_call - premium_put)\n",
    "breakeven_price"
   ]
  },
  {
   "cell_type": "markdown",
   "id": "4ca35161",
   "metadata": {},
   "source": [
    "# Conclusion\n",
    "\n",
    "The position starts to make money after 1.3% appreciation (excluding broker fees)"
   ]
  }
 ],
 "metadata": {
  "kernelspec": {
   "display_name": ".venv (3.13.7)",
   "language": "python",
   "name": "python3"
  },
  "language_info": {
   "codemirror_mode": {
    "name": "ipython",
    "version": 3
   },
   "file_extension": ".py",
   "mimetype": "text/x-python",
   "name": "python",
   "nbconvert_exporter": "python",
   "pygments_lexer": "ipython3",
   "version": "3.13.7"
  }
 },
 "nbformat": 4,
 "nbformat_minor": 5
}
