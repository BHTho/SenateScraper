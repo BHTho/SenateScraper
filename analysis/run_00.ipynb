{
 "cells": [
  {
   "cell_type": "code",
   "execution_count": 20,
   "id": "eb5eada0",
   "metadata": {},
   "outputs": [],
   "source": [
    "import os\n",
    "import pandas as pd, numpy as np\n",
    "import boto3"
   ]
  },
  {
   "cell_type": "code",
   "execution_count": 21,
   "id": "b68381d0",
   "metadata": {},
   "outputs": [
    {
     "name": "stdout",
     "output_type": "stream",
     "text": [
      "senateScraper\n"
     ]
    }
   ],
   "source": [
    "# check that we're getting the environment variable = senateScraper\n",
    "print(os.getenv('DYNAMO_TABLE_NAME'))"
   ]
  },
  {
   "cell_type": "code",
   "execution_count": 22,
   "id": "4bc74705",
   "metadata": {},
   "outputs": [],
   "source": [
    "dynamodb = boto3.resource(\n",
    "            'dynamodb',\n",
    "            region_name='eu-north-1',\n",
    "            aws_access_key_id=os.getenv('AWS_ACCESS_KEY'),\n",
    "            aws_secret_access_key=os.getenv('AWS_SECRET_KEY')\n",
    ")"
   ]
  },
  {
   "cell_type": "markdown",
   "id": "ea215acb",
   "metadata": {},
   "source": [
    "Let's have a look at our data"
   ]
  },
  {
   "cell_type": "code",
   "execution_count": 23,
   "id": "2b0eb350",
   "metadata": {},
   "outputs": [
    {
     "data": {
      "text/html": [
       "<div>\n",
       "<style scoped>\n",
       "    .dataframe tbody tr th:only-of-type {\n",
       "        vertical-align: middle;\n",
       "    }\n",
       "\n",
       "    .dataframe tbody tr th {\n",
       "        vertical-align: top;\n",
       "    }\n",
       "\n",
       "    .dataframe thead th {\n",
       "        text-align: right;\n",
       "    }\n",
       "</style>\n",
       "<table border=\"1\" class=\"dataframe\">\n",
       "  <thead>\n",
       "    <tr style=\"text-align: right;\">\n",
       "      <th></th>\n",
       "      <th>Tx_Type</th>\n",
       "      <th>Comment</th>\n",
       "      <th>Date</th>\n",
       "      <th>Asset_Type</th>\n",
       "      <th>Filer</th>\n",
       "      <th>Owner</th>\n",
       "      <th>Ticker</th>\n",
       "      <th>Amount</th>\n",
       "      <th>id</th>\n",
       "      <th>Asset_Name</th>\n",
       "    </tr>\n",
       "  </thead>\n",
       "  <tbody>\n",
       "    <tr>\n",
       "      <th>0</th>\n",
       "      <td>Sale (Partial)</td>\n",
       "      <td>None</td>\n",
       "      <td>2025-09-04</td>\n",
       "      <td>Stock</td>\n",
       "      <td>Whitehouse, Sheldon</td>\n",
       "      <td>Self</td>\n",
       "      <td>AAPL</td>\n",
       "      <td>$15,001 - $50,000</td>\n",
       "      <td>3a7413ed5ad650c3e08beedc139b362c</td>\n",
       "      <td>Apple Inc</td>\n",
       "    </tr>\n",
       "    <tr>\n",
       "      <th>1</th>\n",
       "      <td>Sale (Full)</td>\n",
       "      <td>None</td>\n",
       "      <td>2023-09-20</td>\n",
       "      <td>Stock</td>\n",
       "      <td>Whitehouse, Sheldon</td>\n",
       "      <td>Spouse</td>\n",
       "      <td>WBD</td>\n",
       "      <td>$1,001 - $15,000</td>\n",
       "      <td>f32d3026cd93624cf66552159148bd02</td>\n",
       "      <td>Warner Bros. Discovery, Inc. - Series A Common...</td>\n",
       "    </tr>\n",
       "    <tr>\n",
       "      <th>2</th>\n",
       "      <td>Sale (Full)</td>\n",
       "      <td>None</td>\n",
       "      <td>2014-06-19</td>\n",
       "      <td></td>\n",
       "      <td>Collins, Susan M.</td>\n",
       "      <td>Spouse</td>\n",
       "      <td>PG</td>\n",
       "      <td>$1,001 - $15,000</td>\n",
       "      <td>0ba73920a5ed82d8e83d9f1230fb6668</td>\n",
       "      <td>The Procter &amp; Gamble Company (NYSE)</td>\n",
       "    </tr>\n",
       "    <tr>\n",
       "      <th>3</th>\n",
       "      <td>Purchase</td>\n",
       "      <td>None</td>\n",
       "      <td>2016-03-31</td>\n",
       "      <td>Stock</td>\n",
       "      <td>Cassidy, Bill</td>\n",
       "      <td>Spouse</td>\n",
       "      <td>PG</td>\n",
       "      <td>$1,001 - $15,000</td>\n",
       "      <td>ebc244ac5e18600af7b7517299893b8d</td>\n",
       "      <td>The Procter &amp; Gamble Company</td>\n",
       "    </tr>\n",
       "    <tr>\n",
       "      <th>4</th>\n",
       "      <td>Sale (Partial)</td>\n",
       "      <td>None</td>\n",
       "      <td>2019-09-25</td>\n",
       "      <td>Stock</td>\n",
       "      <td>Moran, Jerry</td>\n",
       "      <td>Spouse</td>\n",
       "      <td>XOM</td>\n",
       "      <td>$1,001 - $15,000</td>\n",
       "      <td>609a7b92833dc517cfd19953347d4a9f</td>\n",
       "      <td>Exxon Mobil Corporation</td>\n",
       "    </tr>\n",
       "  </tbody>\n",
       "</table>\n",
       "</div>"
      ],
      "text/plain": [
       "          Tx_Type Comment        Date Asset_Type                Filer   Owner  \\\n",
       "0  Sale (Partial)    None  2025-09-04      Stock  Whitehouse, Sheldon    Self   \n",
       "1     Sale (Full)    None  2023-09-20      Stock  Whitehouse, Sheldon  Spouse   \n",
       "2     Sale (Full)    None  2014-06-19               Collins, Susan M.  Spouse   \n",
       "3        Purchase    None  2016-03-31      Stock        Cassidy, Bill  Spouse   \n",
       "4  Sale (Partial)    None  2019-09-25      Stock         Moran, Jerry  Spouse   \n",
       "\n",
       "  Ticker             Amount                                id  \\\n",
       "0   AAPL  $15,001 - $50,000  3a7413ed5ad650c3e08beedc139b362c   \n",
       "1    WBD   $1,001 - $15,000  f32d3026cd93624cf66552159148bd02   \n",
       "2     PG   $1,001 - $15,000  0ba73920a5ed82d8e83d9f1230fb6668   \n",
       "3     PG   $1,001 - $15,000  ebc244ac5e18600af7b7517299893b8d   \n",
       "4    XOM   $1,001 - $15,000  609a7b92833dc517cfd19953347d4a9f   \n",
       "\n",
       "                                          Asset_Name  \n",
       "0                                          Apple Inc  \n",
       "1  Warner Bros. Discovery, Inc. - Series A Common...  \n",
       "2                The Procter & Gamble Company (NYSE)  \n",
       "3                       The Procter & Gamble Company  \n",
       "4                            Exxon Mobil Corporation  "
      ]
     },
     "execution_count": 23,
     "metadata": {},
     "output_type": "execute_result"
    }
   ],
   "source": [
    "response = dynamodb.Table(os.getenv('DYNAMO_TABLE_NAME')).scan()\n",
    "data = response['Items']\n",
    "df = pd.DataFrame(data)\n",
    "df.head()"
   ]
  },
  {
   "cell_type": "code",
   "execution_count": 24,
   "id": "99f3f340",
   "metadata": {},
   "outputs": [
    {
     "data": {
      "text/html": [
       "<div>\n",
       "<style scoped>\n",
       "    .dataframe tbody tr th:only-of-type {\n",
       "        vertical-align: middle;\n",
       "    }\n",
       "\n",
       "    .dataframe tbody tr th {\n",
       "        vertical-align: top;\n",
       "    }\n",
       "\n",
       "    .dataframe thead th {\n",
       "        text-align: right;\n",
       "    }\n",
       "</style>\n",
       "<table border=\"1\" class=\"dataframe\">\n",
       "  <thead>\n",
       "    <tr style=\"text-align: right;\">\n",
       "      <th></th>\n",
       "      <th>Tx_Type</th>\n",
       "      <th>Comment</th>\n",
       "      <th>Date</th>\n",
       "      <th>Asset_Type</th>\n",
       "      <th>Filer</th>\n",
       "      <th>Owner</th>\n",
       "      <th>Ticker</th>\n",
       "      <th>Amount</th>\n",
       "      <th>id</th>\n",
       "      <th>Asset_Name</th>\n",
       "    </tr>\n",
       "  </thead>\n",
       "  <tbody>\n",
       "    <tr>\n",
       "      <th>count</th>\n",
       "      <td>5084</td>\n",
       "      <td>456</td>\n",
       "      <td>5084</td>\n",
       "      <td>5084</td>\n",
       "      <td>5084</td>\n",
       "      <td>5084</td>\n",
       "      <td>3936</td>\n",
       "      <td>5084</td>\n",
       "      <td>5084</td>\n",
       "      <td>5084</td>\n",
       "    </tr>\n",
       "    <tr>\n",
       "      <th>unique</th>\n",
       "      <td>4</td>\n",
       "      <td>206</td>\n",
       "      <td>1380</td>\n",
       "      <td>9</td>\n",
       "      <td>54</td>\n",
       "      <td>4</td>\n",
       "      <td>932</td>\n",
       "      <td>8</td>\n",
       "      <td>5084</td>\n",
       "      <td>2491</td>\n",
       "    </tr>\n",
       "    <tr>\n",
       "      <th>top</th>\n",
       "      <td>Purchase</td>\n",
       "      <td>MFI67</td>\n",
       "      <td>2015-02-13</td>\n",
       "      <td>Stock</td>\n",
       "      <td>Tuberville, Tommy</td>\n",
       "      <td>Joint</td>\n",
       "      <td>AAPL</td>\n",
       "      <td>$1,001 - $15,000</td>\n",
       "      <td>3a7413ed5ad650c3e08beedc139b362c</td>\n",
       "      <td>Apple Inc.</td>\n",
       "    </tr>\n",
       "    <tr>\n",
       "      <th>freq</th>\n",
       "      <td>2606</td>\n",
       "      <td>40</td>\n",
       "      <td>83</td>\n",
       "      <td>3661</td>\n",
       "      <td>1056</td>\n",
       "      <td>1827</td>\n",
       "      <td>74</td>\n",
       "      <td>3176</td>\n",
       "      <td>1</td>\n",
       "      <td>43</td>\n",
       "    </tr>\n",
       "  </tbody>\n",
       "</table>\n",
       "</div>"
      ],
      "text/plain": [
       "         Tx_Type Comment        Date Asset_Type              Filer  Owner  \\\n",
       "count       5084     456        5084       5084               5084   5084   \n",
       "unique         4     206        1380          9                 54      4   \n",
       "top     Purchase   MFI67  2015-02-13      Stock  Tuberville, Tommy  Joint   \n",
       "freq        2606      40          83       3661               1056   1827   \n",
       "\n",
       "       Ticker            Amount                                id  Asset_Name  \n",
       "count    3936              5084                              5084        5084  \n",
       "unique    932                 8                              5084        2491  \n",
       "top      AAPL  $1,001 - $15,000  3a7413ed5ad650c3e08beedc139b362c  Apple Inc.  \n",
       "freq       74              3176                                 1          43  "
      ]
     },
     "execution_count": 24,
     "metadata": {},
     "output_type": "execute_result"
    }
   ],
   "source": [
    "df.describe()"
   ]
  },
  {
   "cell_type": "code",
   "execution_count": 25,
   "id": "63add6ae",
   "metadata": {},
   "outputs": [
    {
     "data": {
      "text/plain": [
       "array(['$15,001 - $50,000', '$1,001 - $15,000', '$50,001 - $100,000',\n",
       "       '$500,001 - $1,000,000', '$100,001 - $250,000',\n",
       "       '$250,001 - $500,000', '$1,000,001 - $5,000,000',\n",
       "       '$5,000,001 - $25,000,000'], dtype=object)"
      ]
     },
     "execution_count": 25,
     "metadata": {},
     "output_type": "execute_result"
    }
   ],
   "source": [
    "df['Amount'].unique()"
   ]
  },
  {
   "cell_type": "markdown",
   "id": "e6e105fc",
   "metadata": {},
   "source": [
    "I'll create a new column med_amt to analyse the amounts as a numeric median of the range"
   ]
  },
  {
   "cell_type": "code",
   "execution_count": 26,
   "id": "18f38f03",
   "metadata": {},
   "outputs": [
    {
     "data": {
      "text/html": [
       "<div>\n",
       "<style scoped>\n",
       "    .dataframe tbody tr th:only-of-type {\n",
       "        vertical-align: middle;\n",
       "    }\n",
       "\n",
       "    .dataframe tbody tr th {\n",
       "        vertical-align: top;\n",
       "    }\n",
       "\n",
       "    .dataframe thead th {\n",
       "        text-align: right;\n",
       "    }\n",
       "</style>\n",
       "<table border=\"1\" class=\"dataframe\">\n",
       "  <thead>\n",
       "    <tr style=\"text-align: right;\">\n",
       "      <th></th>\n",
       "      <th>Amount</th>\n",
       "      <th>med_amt</th>\n",
       "    </tr>\n",
       "  </thead>\n",
       "  <tbody>\n",
       "    <tr>\n",
       "      <th>0</th>\n",
       "      <td>$15,001 - $50,000</td>\n",
       "      <td>32500.5</td>\n",
       "    </tr>\n",
       "    <tr>\n",
       "      <th>1</th>\n",
       "      <td>$1,001 - $15,000</td>\n",
       "      <td>8000.5</td>\n",
       "    </tr>\n",
       "    <tr>\n",
       "      <th>2</th>\n",
       "      <td>$1,001 - $15,000</td>\n",
       "      <td>8000.5</td>\n",
       "    </tr>\n",
       "    <tr>\n",
       "      <th>3</th>\n",
       "      <td>$1,001 - $15,000</td>\n",
       "      <td>8000.5</td>\n",
       "    </tr>\n",
       "    <tr>\n",
       "      <th>4</th>\n",
       "      <td>$1,001 - $15,000</td>\n",
       "      <td>8000.5</td>\n",
       "    </tr>\n",
       "  </tbody>\n",
       "</table>\n",
       "</div>"
      ],
      "text/plain": [
       "              Amount  med_amt\n",
       "0  $15,001 - $50,000  32500.5\n",
       "1   $1,001 - $15,000   8000.5\n",
       "2   $1,001 - $15,000   8000.5\n",
       "3   $1,001 - $15,000   8000.5\n",
       "4   $1,001 - $15,000   8000.5"
      ]
     },
     "execution_count": 26,
     "metadata": {},
     "output_type": "execute_result"
    }
   ],
   "source": [
    "df['med_amt'] = df['Amount'].apply(lambda x: np.mean([int(i) for i in x.replace('$','').replace(',','').split('-')]) if '-' in x else int(x.replace('$','').replace(',','')) )\n",
    "df[['Amount','med_amt']].head()"
   ]
  },
  {
   "cell_type": "code",
   "execution_count": 27,
   "id": "d79ddcca",
   "metadata": {},
   "outputs": [
    {
     "name": "stdout",
     "output_type": "stream",
     "text": [
      "<class 'pandas.core.frame.DataFrame'>\n",
      "RangeIndex: 5084 entries, 0 to 5083\n",
      "Data columns (total 14 columns):\n",
      " #   Column      Non-Null Count  Dtype         \n",
      "---  ------      --------------  -----         \n",
      " 0   Tx_Type     5084 non-null   object        \n",
      " 1   Comment     456 non-null    object        \n",
      " 2   Date        5084 non-null   datetime64[ns]\n",
      " 3   Asset_Type  5084 non-null   object        \n",
      " 4   Filer       5084 non-null   object        \n",
      " 5   Owner       5084 non-null   object        \n",
      " 6   Ticker      3936 non-null   object        \n",
      " 7   Amount      5084 non-null   object        \n",
      " 8   id          5084 non-null   object        \n",
      " 9   Asset_Name  5084 non-null   object        \n",
      " 10  med_amt     5084 non-null   float64       \n",
      " 11  year        5084 non-null   int32         \n",
      " 12  month       5084 non-null   int32         \n",
      " 13  day         5084 non-null   int32         \n",
      "dtypes: datetime64[ns](1), float64(1), int32(3), object(9)\n",
      "memory usage: 496.6+ KB\n"
     ]
    }
   ],
   "source": [
    "df['Date'] = pd.to_datetime(df['Date'])\n",
    "df.loc[:, 'year'] = df['Date'].dt.year\n",
    "df.loc[:, 'month'] = df['Date'].dt.month\n",
    "df.loc[:, 'day'] = df['Date'].dt.day\n",
    "df.info()"
   ]
  },
  {
   "cell_type": "markdown",
   "id": "d3449cfb",
   "metadata": {},
   "source": [
    "Let's have a look at stock purchases"
   ]
  },
  {
   "cell_type": "code",
   "execution_count": 28,
   "id": "5590fdc3",
   "metadata": {},
   "outputs": [
    {
     "data": {
      "text/html": [
       "<div>\n",
       "<style scoped>\n",
       "    .dataframe tbody tr th:only-of-type {\n",
       "        vertical-align: middle;\n",
       "    }\n",
       "\n",
       "    .dataframe tbody tr th {\n",
       "        vertical-align: top;\n",
       "    }\n",
       "\n",
       "    .dataframe thead th {\n",
       "        text-align: right;\n",
       "    }\n",
       "</style>\n",
       "<table border=\"1\" class=\"dataframe\">\n",
       "  <thead>\n",
       "    <tr style=\"text-align: right;\">\n",
       "      <th></th>\n",
       "      <th>Tx_Type</th>\n",
       "      <th>Comment</th>\n",
       "      <th>Date</th>\n",
       "      <th>Asset_Type</th>\n",
       "      <th>Filer</th>\n",
       "      <th>Owner</th>\n",
       "      <th>Ticker</th>\n",
       "      <th>Amount</th>\n",
       "      <th>id</th>\n",
       "      <th>Asset_Name</th>\n",
       "      <th>med_amt</th>\n",
       "      <th>year</th>\n",
       "      <th>month</th>\n",
       "      <th>day</th>\n",
       "    </tr>\n",
       "  </thead>\n",
       "  <tbody>\n",
       "    <tr>\n",
       "      <th>3</th>\n",
       "      <td>Purchase</td>\n",
       "      <td>None</td>\n",
       "      <td>2016-03-31</td>\n",
       "      <td>Stock</td>\n",
       "      <td>Cassidy, Bill</td>\n",
       "      <td>Spouse</td>\n",
       "      <td>PG</td>\n",
       "      <td>$1,001 - $15,000</td>\n",
       "      <td>ebc244ac5e18600af7b7517299893b8d</td>\n",
       "      <td>The Procter &amp; Gamble Company</td>\n",
       "      <td>8000.5</td>\n",
       "      <td>2016</td>\n",
       "      <td>3</td>\n",
       "      <td>31</td>\n",
       "    </tr>\n",
       "    <tr>\n",
       "      <th>5</th>\n",
       "      <td>Purchase</td>\n",
       "      <td>None</td>\n",
       "      <td>2016-09-12</td>\n",
       "      <td>Stock</td>\n",
       "      <td>Reed, John F.</td>\n",
       "      <td>Self</td>\n",
       "      <td>TMO</td>\n",
       "      <td>$1,001 - $15,000</td>\n",
       "      <td>274e5cd9f3108b6f9b37f15f6c719b58</td>\n",
       "      <td>Thermo Fisher Scientific, Inc.</td>\n",
       "      <td>8000.5</td>\n",
       "      <td>2016</td>\n",
       "      <td>9</td>\n",
       "      <td>12</td>\n",
       "    </tr>\n",
       "    <tr>\n",
       "      <th>9</th>\n",
       "      <td>Purchase</td>\n",
       "      <td>None</td>\n",
       "      <td>2019-04-18</td>\n",
       "      <td>Stock</td>\n",
       "      <td>Whitehouse, Sheldon</td>\n",
       "      <td>Joint</td>\n",
       "      <td>MCD</td>\n",
       "      <td>$1,001 - $15,000</td>\n",
       "      <td>e20de8feaa3a360c75f9e2d516dc8e91</td>\n",
       "      <td>McDonald's Corporation</td>\n",
       "      <td>8000.5</td>\n",
       "      <td>2019</td>\n",
       "      <td>4</td>\n",
       "      <td>18</td>\n",
       "    </tr>\n",
       "    <tr>\n",
       "      <th>14</th>\n",
       "      <td>Purchase</td>\n",
       "      <td>None</td>\n",
       "      <td>2018-05-24</td>\n",
       "      <td>Stock</td>\n",
       "      <td>Whitehouse, Sheldon</td>\n",
       "      <td>Joint</td>\n",
       "      <td>BUD</td>\n",
       "      <td>$1,001 - $15,000</td>\n",
       "      <td>3a61b528418743b7046acc842fcac619</td>\n",
       "      <td>Anheuser-Busch InBev SA/NV</td>\n",
       "      <td>8000.5</td>\n",
       "      <td>2018</td>\n",
       "      <td>5</td>\n",
       "      <td>24</td>\n",
       "    </tr>\n",
       "    <tr>\n",
       "      <th>17</th>\n",
       "      <td>Purchase</td>\n",
       "      <td>None</td>\n",
       "      <td>2018-10-30</td>\n",
       "      <td>Stock</td>\n",
       "      <td>Peters, Gary</td>\n",
       "      <td>Self</td>\n",
       "      <td>T</td>\n",
       "      <td>$1,001 - $15,000</td>\n",
       "      <td>83c4bdf5092eea2b7b2cc55348ceb8d7</td>\n",
       "      <td>AT&amp;T Inc.</td>\n",
       "      <td>8000.5</td>\n",
       "      <td>2018</td>\n",
       "      <td>10</td>\n",
       "      <td>30</td>\n",
       "    </tr>\n",
       "  </tbody>\n",
       "</table>\n",
       "</div>"
      ],
      "text/plain": [
       "     Tx_Type Comment       Date Asset_Type                Filer   Owner  \\\n",
       "3   Purchase    None 2016-03-31      Stock        Cassidy, Bill  Spouse   \n",
       "5   Purchase    None 2016-09-12      Stock        Reed, John F.    Self   \n",
       "9   Purchase    None 2019-04-18      Stock  Whitehouse, Sheldon   Joint   \n",
       "14  Purchase    None 2018-05-24      Stock  Whitehouse, Sheldon   Joint   \n",
       "17  Purchase    None 2018-10-30      Stock         Peters, Gary    Self   \n",
       "\n",
       "   Ticker            Amount                                id  \\\n",
       "3      PG  $1,001 - $15,000  ebc244ac5e18600af7b7517299893b8d   \n",
       "5     TMO  $1,001 - $15,000  274e5cd9f3108b6f9b37f15f6c719b58   \n",
       "9     MCD  $1,001 - $15,000  e20de8feaa3a360c75f9e2d516dc8e91   \n",
       "14    BUD  $1,001 - $15,000  3a61b528418743b7046acc842fcac619   \n",
       "17      T  $1,001 - $15,000  83c4bdf5092eea2b7b2cc55348ceb8d7   \n",
       "\n",
       "                        Asset_Name  med_amt  year  month  day  \n",
       "3     The Procter & Gamble Company   8000.5  2016      3   31  \n",
       "5   Thermo Fisher Scientific, Inc.   8000.5  2016      9   12  \n",
       "9           McDonald's Corporation   8000.5  2019      4   18  \n",
       "14      Anheuser-Busch InBev SA/NV   8000.5  2018      5   24  \n",
       "17                       AT&T Inc.   8000.5  2018     10   30  "
      ]
     },
     "execution_count": 28,
     "metadata": {},
     "output_type": "execute_result"
    }
   ],
   "source": [
    "buys = df[(df['Tx_Type']=='Purchase') & (df['Ticker'])]\n",
    "buys.head()"
   ]
  },
  {
   "cell_type": "code",
   "execution_count": 29,
   "id": "b5811217",
   "metadata": {},
   "outputs": [
    {
     "name": "stdout",
     "output_type": "stream",
     "text": [
      "<class 'pandas.core.frame.DataFrame'>\n",
      "Index: 1862 entries, 3 to 5077\n",
      "Data columns (total 14 columns):\n",
      " #   Column      Non-Null Count  Dtype         \n",
      "---  ------      --------------  -----         \n",
      " 0   Tx_Type     1862 non-null   object        \n",
      " 1   Comment     127 non-null    object        \n",
      " 2   Date        1862 non-null   datetime64[ns]\n",
      " 3   Asset_Type  1862 non-null   object        \n",
      " 4   Filer       1862 non-null   object        \n",
      " 5   Owner       1862 non-null   object        \n",
      " 6   Ticker      1862 non-null   object        \n",
      " 7   Amount      1862 non-null   object        \n",
      " 8   id          1862 non-null   object        \n",
      " 9   Asset_Name  1862 non-null   object        \n",
      " 10  med_amt     1862 non-null   float64       \n",
      " 11  year        1862 non-null   int32         \n",
      " 12  month       1862 non-null   int32         \n",
      " 13  day         1862 non-null   int32         \n",
      "dtypes: datetime64[ns](1), float64(1), int32(3), object(9)\n",
      "memory usage: 196.4+ KB\n"
     ]
    }
   ],
   "source": [
    "buys.info()"
   ]
  },
  {
   "cell_type": "code",
   "execution_count": 30,
   "id": "840014f5",
   "metadata": {},
   "outputs": [],
   "source": [
    "import seaborn as sns\n"
   ]
  },
  {
   "cell_type": "code",
   "execution_count": 31,
   "id": "4e6457ec",
   "metadata": {},
   "outputs": [
    {
     "data": {
      "text/plain": [
       "Text(0.5, 1.0, 'Total Amount Invested by US Senators per Year')"
      ]
     },
     "execution_count": 31,
     "metadata": {},
     "output_type": "execute_result"
    },
    {
     "data": {
      "image/png": "[encoded data removed]",
      "text/plain": [
       "<Figure size 640x480 with 1 Axes>"
      ]
     },
     "metadata": {},
     "output_type": "display_data"
    }
   ],
   "source": [
    "sns.set_style('whitegrid')\n",
    "agg = buys.groupby('year', as_index=False)['med_amt'].sum()\n",
    "g = sns.barplot(data=agg, x='year', y='med_amt', errorbar=None)\n",
    "g.set_ylabel('Total Amount Invested ($M)')\n",
    "g.set_title('Total Amount Invested by US Senators per Year')\n"
   ]
  },
  {
   "cell_type": "code",
   "execution_count": 32,
   "id": "26fd5461",
   "metadata": {},
   "outputs": [
    {
     "data": {
      "text/plain": [
       "array(['Whitehouse, Sheldon', 'Collins, Susan M.', 'Cassidy, Bill',\n",
       "       'Moran, Jerry', 'Reed, John F.', 'Boozman, John', 'Peters, Gary',\n",
       "       'Capito, Shelley Moore', 'Wyden, Ron', 'Murray, Patty',\n",
       "       'Scott, Rick', 'Mullin, Markwayne', 'Tuberville, Tommy',\n",
       "       'Sullivan, Dan', 'Fetterman, John', 'Tillis, Thom', 'Hoeven, John',\n",
       "       'Coons, Chris', 'McConnell, A. Mitchell Jr.', 'Ricketts, Pete',\n",
       "       'Cornyn, John', 'McCormick, David H.', 'King, Angus',\n",
       "       'Warner, Mark', 'Van Hollen, Chris', 'Hickenlooper, John',\n",
       "       'Graham, Lindsey', 'Smith, Tina', 'Moody, Ashley B.',\n",
       "       'Banks, James E.', 'Hagerty, Bill', 'Duckworth, Tammy',\n",
       "       'Kaine, Tim', 'Fischer, Deb', 'Bennet, Michael', 'Rounds, Mike',\n",
       "       'Britt, Katie', 'Kennedy, John', 'Cruz, Ted', 'Rosen, Jacky',\n",
       "       'Cantwell, Maria', 'Curtis, John R.', 'Wicker, Roger',\n",
       "       'Moreno, Bernardo', 'Thune, John', 'Lummis, Cynthia',\n",
       "       'Shaheen, Jeanne', 'Barrasso, John', 'Crapo, Michael D.',\n",
       "       'Johnson, Ron', 'Justice II, James Conley', 'Daines, Steve',\n",
       "       'Marshall, Roger', 'Kelly, Mark'], dtype=object)"
      ]
     },
     "execution_count": 32,
     "metadata": {},
     "output_type": "execute_result"
    }
   ],
   "source": [
    "# Which senators do we have?\n",
    "df['Filer'].unique()"
   ]
  },
  {
   "cell_type": "code",
   "execution_count": 33,
   "id": "4320fad2",
   "metadata": {},
   "outputs": [
    {
     "name": "stderr",
     "output_type": "stream",
     "text": [
      "/tmp/ipykernel_5039/2402594497.py:5: UserWarning: set_ticklabels() should only be used with a fixed number of ticks, i.e. after set_ticks() or using a FixedLocator.\n",
      "  g.set_xticklabels(g.get_xticklabels(), rotation=90)\n"
     ]
    },
    {
     "data": {
      "text/plain": [
       "Text(0, 0.5, 'Total investment (M $)')"
      ]
     },
     "execution_count": 33,
     "metadata": {},
     "output_type": "execute_result"
    },
    {
     "data": {
      "image/png": "[encoded data removed]",
      "text/plain": [
       "<Figure size 640x480 with 1 Axes>"
      ]
     },
     "metadata": {},
     "output_type": "display_data"
    }
   ],
   "source": [
    "# Who has invested the most in 2025?\n",
    "sorted_2025 = buys[buys['year']==2025].groupby('Filer')['med_amt'].sum().sort_values(ascending=True)\n",
    "\n",
    "g = sns.barplot(x=sorted_2025.index, y=sorted_2025.values)\n",
    "g.set_xticklabels(g.get_xticklabels(), rotation=90)\n",
    "g.set_title('Total investments by senator in 2025')\n",
    "g.set_ylabel('Total investment (M $)')"
   ]
  },
  {
   "cell_type": "markdown",
   "id": "a9b20b30",
   "metadata": {},
   "source": [
    "I'll save the rest of the analysis for the later steps where I develop a trading strategy"
   ]
  }
 ],
 "metadata": {
  "kernelspec": {
   "display_name": ".venv (3.13.7)",
   "language": "python",
   "name": "python3"
  },
  "language_info": {
   "codemirror_mode": {
    "name": "ipython",
    "version": 3
   },
   "file_extension": ".py",
   "mimetype": "text/x-python",
   "name": "python",
   "nbconvert_exporter": "python",
   "pygments_lexer": "ipython3",
   "version": "3.13.7"
  }
 },
 "nbformat": 4,
 "nbformat_minor": 5
}
